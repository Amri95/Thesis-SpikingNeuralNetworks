{
 "cells": [
  {
   "cell_type": "code",
   "execution_count": 1,
   "metadata": {},
   "outputs": [
    {
     "name": "stderr",
     "output_type": "stream",
     "text": [
      "WARNING: Logging before flag parsing goes to stderr.\n",
      "W1124 19:34:21.687790 4734758208 deprecation.py:323] From /usr/local/lib/python3.7/site-packages/tensorflow_core/python/compat/v2_compat.py:65: disable_resource_variables (from tensorflow.python.ops.variable_scope) is deprecated and will be removed in a future version.\n",
      "Instructions for updating:\n",
      "non-resource variables are not supported in the long term\n"
     ]
    }
   ],
   "source": [
    "%matplotlib inline\n",
    "\n",
    "import nengo\n",
    "import tensorflow as tf\n",
    "import numpy as np\n",
    "import matplotlib.pyplot as plt\n",
    "\n",
    "import nengo_dl\n",
    "\n",
    "# keras uses the global random seeds, so we set those here to\n",
    "# ensure the example is reproducible\n",
    "seed = 0\n",
    "np.random.seed(seed)\n",
    "tf.random.set_seed(seed)"
   ]
  },
  {
   "cell_type": "code",
   "execution_count": 2,
   "metadata": {},
   "outputs": [],
   "source": [
    "X = np.array([[0,0],[0,1],[1,0],[1,1]])\n",
    "y = np.array([0,1,1,0])"
   ]
  },
  {
   "cell_type": "code",
   "execution_count": 9,
   "metadata": {},
   "outputs": [
    {
     "data": {
      "text/plain": [
       "array([[0, 0],\n",
       "       [0, 1],\n",
       "       [1, 0],\n",
       "       [1, 1]])"
      ]
     },
     "execution_count": 9,
     "metadata": {},
     "output_type": "execute_result"
    }
   ],
   "source": [
    "X"
   ]
  },
  {
   "cell_type": "code",
   "execution_count": 3,
   "metadata": {},
   "outputs": [
    {
     "data": {
      "text/plain": [
       "(4, 2)"
      ]
     },
     "execution_count": 3,
     "metadata": {},
     "output_type": "execute_result"
    }
   ],
   "source": [
    "X.shape"
   ]
  },
  {
   "cell_type": "code",
   "execution_count": 4,
   "metadata": {
    "scrolled": true
   },
   "outputs": [
    {
     "data": {
      "text/plain": [
       "(4,)"
      ]
     },
     "execution_count": 4,
     "metadata": {},
     "output_type": "execute_result"
    }
   ],
   "source": [
    "y.shape"
   ]
  },
  {
   "cell_type": "code",
   "execution_count": 5,
   "metadata": {},
   "outputs": [
    {
     "data": {
      "text/plain": [
       "{0, 1}"
      ]
     },
     "execution_count": 5,
     "metadata": {},
     "output_type": "execute_result"
    }
   ],
   "source": [
    "set(y)"
   ]
  },
  {
   "cell_type": "code",
   "execution_count": 6,
   "metadata": {},
   "outputs": [
    {
     "data": {
      "text/plain": [
       "array([1., 1.])"
      ]
     },
     "execution_count": 6,
     "metadata": {},
     "output_type": "execute_result"
    }
   ],
   "source": [
    "np.ones(X.shape[1])"
   ]
  },
  {
   "cell_type": "code",
   "execution_count": 7,
   "metadata": {},
   "outputs": [
    {
     "data": {
      "text/plain": [
       "2"
      ]
     },
     "execution_count": 7,
     "metadata": {},
     "output_type": "execute_result"
    }
   ],
   "source": [
    "X.shape[1]"
   ]
  },
  {
   "cell_type": "code",
   "execution_count": 8,
   "metadata": {},
   "outputs": [
    {
     "ename": "AttributeError",
     "evalue": "module 'nengo_dl' has no attribute 'Layer'",
     "output_type": "error",
     "traceback": [
      "\u001b[0;31m---------------------------------------------------------------------------\u001b[0m",
      "\u001b[0;31mAttributeError\u001b[0m                            Traceback (most recent call last)",
      "\u001b[0;32m<ipython-input-8-253bde20b454>\u001b[0m in \u001b[0;36m<module>\u001b[0;34m\u001b[0m\n\u001b[1;32m     18\u001b[0m     \u001b[0;31m# no nonlinearity)\u001b[0m\u001b[0;34m\u001b[0m\u001b[0;34m\u001b[0m\u001b[0;34m\u001b[0m\u001b[0m\n\u001b[1;32m     19\u001b[0m     \u001b[0;31m#out = nengo.Node(nengo.Sigmoid, size_in=1)\u001b[0m\u001b[0;34m\u001b[0m\u001b[0;34m\u001b[0m\u001b[0;34m\u001b[0m\u001b[0m\n\u001b[0;32m---> 20\u001b[0;31m     out = nengo_dl.Layer(\n\u001b[0m\u001b[1;32m     21\u001b[0m         tf.keras.layers.Dense(units=1, activation=tf.nn.sigmoid))(hidden)\n\u001b[1;32m     22\u001b[0m     \u001b[0;31m#out = nengo.Ensemble(1, 1, neuron_type=nengo.Sigmoid()).neurons\u001b[0m\u001b[0;34m\u001b[0m\u001b[0;34m\u001b[0m\u001b[0;34m\u001b[0m\u001b[0m\n",
      "\u001b[0;31mAttributeError\u001b[0m: module 'nengo_dl' has no attribute 'Layer'"
     ]
    }
   ],
   "source": [
    "with nengo.Network(seed=0) as net:\n",
    "    # set up some default parameters to match the Keras defaults\n",
    "    net.config[nengo.Ensemble].gain = nengo.dists.Choice([1])\n",
    "    net.config[nengo.Ensemble].bias = nengo.dists.Choice([0])\n",
    "    net.config[nengo.Connection].synapse = None\n",
    "    net.config[nengo.Connection].transform = nengo_dl.dists.Glorot()\n",
    "\n",
    "    # input node, same as before\n",
    "    inp = nengo.Node(output=np.ones(X.shape[1]))\n",
    "\n",
    "    # add the first dense layer\n",
    "    hidden = nengo.Ensemble(8, 1, neuron_type=nengo.RectifiedLinear()).neurons\n",
    "    nengo.Connection(inp, hidden)\n",
    "    '''hidden2 = nengo.Ensemble(1, 1, neuron_type=nengo.Sigmoid()).neurons\n",
    "    nengo.Connection(hidden, hidden2)'''\n",
    "\n",
    "    # add the linear output layer (using nengo.Node since there is\n",
    "    # no nonlinearity)\n",
    "    #out = nengo.Node(nengo.Sigmoid, size_in=1)\n",
    "    out = nengo_dl.Layer(\n",
    "        tf.keras.layers.Dense(units=1, activation=tf.nn.sigmoid))(hidden)\n",
    "    #out = nengo.Ensemble(1, 1, neuron_type=nengo.Sigmoid()).neurons\n",
    "    nengo.Connection(hidden, out)\n",
    "\n",
    "    # add a probe to collect output\n",
    "    out_p = nengo.Probe(out)"
   ]
  },
  {
   "cell_type": "code",
   "execution_count": null,
   "metadata": {},
   "outputs": [],
   "source": [
    "#from sklearn.model_selection import train_test_split\n",
    "X_snn = X[:, None, :]\n",
    "y_snn = y[:, None, None]\n",
    "#X_train, X_test, y_train, y_test = train_test_split(X, y, test_size=0.2, random_state=0)"
   ]
  },
  {
   "cell_type": "code",
   "execution_count": null,
   "metadata": {},
   "outputs": [],
   "source": [
    "X_snn.shape"
   ]
  },
  {
   "cell_type": "code",
   "execution_count": null,
   "metadata": {},
   "outputs": [],
   "source": [
    "y_snn.shape"
   ]
  },
  {
   "cell_type": "code",
   "execution_count": null,
   "metadata": {
    "scrolled": true
   },
   "outputs": [],
   "source": [
    "with net:\n",
    "    nengo_dl.configure_settings(stateful=False, use_loop=False)\n",
    "\n",
    "with nengo_dl.Simulator(net, minibatch_size=4) as sim:\n",
    "    sim.compile(optimizer=tf.optimizers.SGD(lr=0.1),\n",
    "                loss=tf.keras.losses.binary_crossentropy,\n",
    "                metrics=[\"accuracy\"])\n",
    "    sim.fit(X_snn, y_snn, epochs=1000, verbose=0)\n",
    "\n",
    "    print(\"Training accuracy:\", sim.evaluate(\n",
    "        X_snn, y_snn, verbose=0)[\"probe_accuracy\"])\n",
    "    \n",
    "    sim.save_params(\"./XOR_snn\")"
   ]
  },
  {
   "cell_type": "code",
   "execution_count": null,
   "metadata": {},
   "outputs": [],
   "source": [
    "from sklearn.metrics import f1_score, accuracy_score\n",
    "with nengo_dl.Simulator(net, minibatch_size=4) as sim2:\n",
    "    sim2.load_params(\"./XOR_snn\")\n",
    "    # call compile and evaluate, as we did with the Keras model\n",
    "    sim2.compile(optimizer=SGD(lr=0.1),\n",
    "                loss=tf.keras.losses.binary_crossentropy,\n",
    "                metrics=[\"accuracy\"])\n",
    "    print(\"Test accuracy:\", sim2.evaluate(\n",
    "        X_snn, y_snn, verbose=0)[\"probe_accuracy\"])\n",
    "    predictions = sim2.predict(X_snn)[out_p]\n",
    "    y_pred = []\n",
    "    for p in predictions:\n",
    "        y_pred.append(p[0][0])\n",
    "    #print(\"Test loss: \", sim2.evaluate(X_snn, y_snn, verbose=0)['loss'])\n",
    "    #print(\"Test accuracy: \", accuracy_score(y_snn.flatten(), y_pred))\n",
    "    #print(\"Test F1 Score: \", f1_score(y_snn.flatten(), y_pred, average='micro'))\n",
    "    print(y_pred)"
   ]
  },
  {
   "cell_type": "code",
   "execution_count": null,
   "metadata": {},
   "outputs": [],
   "source": [
    "X.shape"
   ]
  },
  {
   "cell_type": "code",
   "execution_count": null,
   "metadata": {},
   "outputs": [],
   "source": [
    "y.shape"
   ]
  },
  {
   "cell_type": "markdown",
   "metadata": {},
   "source": [
    "## Keras Model"
   ]
  },
  {
   "cell_type": "code",
   "execution_count": null,
   "metadata": {},
   "outputs": [],
   "source": [
    "from tensorflow.keras.layers import Dense\n",
    "from tensorflow.keras.models import Sequential\n",
    "from tensorflow.keras.optimizers import SGD\n",
    "model = Sequential()\n",
    "model.add(Dense(8, input_shape=(X.shape[1],), activation='relu'))\n",
    "model.add(Dense(1, activation='sigmoid'))\n",
    "model.compile(optimizer=SGD(lr=0.1),\n",
    "              loss='binary_crossentropy',\n",
    "              metrics=['accuracy'])\n",
    "model.fit(X, y, epochs=1000, verbose=0)\n",
    "model.predict_proba(X)"
   ]
  },
  {
   "cell_type": "code",
   "execution_count": null,
   "metadata": {},
   "outputs": [],
   "source": [
    "model_weights = \"keras_weights\"\n",
    "model.save_weights(model_weights)"
   ]
  },
  {
   "cell_type": "code",
   "execution_count": null,
   "metadata": {},
   "outputs": [],
   "source": [
    "class KerasWrapper(tf.keras.layers.Layer):\n",
    "    def __init__(self, keras_model):\n",
    "        super().__init__()\n",
    "\n",
    "        self.model = keras_model\n",
    "\n",
    "    def build(self, input_shapes):\n",
    "        super().build(input_shapes)\n",
    "\n",
    "        # we use clone_model to re-build the model\n",
    "        # within the TensorNode context\n",
    "        self.model = tf.keras.models.clone_model(self.model)\n",
    "\n",
    "        # load the weights we saved above\n",
    "        self.model.load_weights(model_weights)\n",
    "\n",
    "    def call(self, inputs):\n",
    "        # apply the model to the inputs\n",
    "        return self.model(inputs)"
   ]
  },
  {
   "cell_type": "code",
   "execution_count": null,
   "metadata": {},
   "outputs": [],
   "source": [
    "with nengo.Network() as netKeras:\n",
    "    # create a normal input node to feed in our test image.\n",
    "    # the `np.ones` array is a placeholder, these\n",
    "    # values will be replaced with the Fashion MNIST images\n",
    "    # when we run the Simulator.\n",
    "    input_node = nengo.Node(output=np.ones(X.shape[1]))\n",
    "\n",
    "    # create an instance of the custom layer class we created,\n",
    "    # passing it the Keras model\n",
    "    layer = KerasWrapper(model)\n",
    "\n",
    "    # create a TensorNode and pass it the new layer\n",
    "    keras_node = nengo_dl.TensorNode(\n",
    "        layer,\n",
    "        shape_in=(X.shape[1],),  # shape of input (the flattened images)\n",
    "        shape_out=(1,),  # shape of output (# of classes)\n",
    "        pass_time=False,  # this node doesn't require time as input\n",
    "    )\n",
    "\n",
    "    # connect up our input to our keras node\n",
    "    nengo.Connection(input_node, keras_node, synapse=None)\n",
    "\n",
    "    # add a probe to collect output of keras node\n",
    "    keras_p = nengo.Probe(keras_node)"
   ]
  },
  {
   "cell_type": "code",
   "execution_count": null,
   "metadata": {},
   "outputs": [],
   "source": [
    "with nengo_dl.Simulator(netKeras, minibatch_size=4) as sim:\n",
    "    # call compile and evaluate, as we did with the Keras model\n",
    "    sim.compile(optimizer=SGD(lr=0.1),\n",
    "                loss=tf.keras.losses.binary_crossentropy,\n",
    "                metrics=[\"accuracy\"])\n",
    "    print(\"Test accuracy:\", sim.evaluate(\n",
    "        X_snn, y_snn, verbose=0)[\"probe_accuracy\"])\n",
    "    predictions = sim.predict(X_snn)[keras_p]\n",
    "    y_pred = []\n",
    "    for p in predictions:\n",
    "        y_pred.append(p[0][0])\n",
    "    print(\"Test F1 Score: \", f1_score(y_snn.flatten(), list(map(round, y_pred)), average='micro'))\n",
    "    print(y_pred)"
   ]
  },
  {
   "cell_type": "markdown",
   "metadata": {},
   "source": [
    "## Keras into Nengo-DL"
   ]
  },
  {
   "cell_type": "code",
   "execution_count": null,
   "metadata": {},
   "outputs": [],
   "source": [
    "out = nengo_dl.Layer(\n",
    "        tf.keras.layers.Dense(units=1, activation=tf.nn.sigmoid))\n",
    "out"
   ]
  },
  {
   "cell_type": "code",
   "execution_count": null,
   "metadata": {},
   "outputs": [],
   "source": [
    "out.layer_func"
   ]
  },
  {
   "cell_type": "code",
   "execution_count": null,
   "metadata": {},
   "outputs": [],
   "source": [
    "nengo.Sigmoid"
   ]
  },
  {
   "cell_type": "code",
   "execution_count": null,
   "metadata": {},
   "outputs": [],
   "source": [
    "with nengo.Network(seed=seed) as net:\n",
    "    # input node, same as before\n",
    "    inp = nengo.Node(output=np.ones(X.shape[1]))\n",
    "\n",
    "    # add the Dense layers, as in the Keras model\n",
    "    hidden = nengo_dl.Layer(\n",
    "        tf.keras.layers.Dense(units=8, activation=tf.nn.relu))(inp)\n",
    "    out = nengo_dl.Layer(\n",
    "        tf.keras.layers.Dense(units=1, activation=tf.nn.sigmoid))(hidden)\n",
    "\n",
    "    # add a probe to collect output\n",
    "    out_p = nengo.Probe(out)"
   ]
  },
  {
   "cell_type": "code",
   "execution_count": null,
   "metadata": {},
   "outputs": [],
   "source": [
    "with net:\n",
    "    nengo_dl.configure_settings(stateful=False, use_loop=False)\n",
    "\n",
    "with nengo_dl.Simulator(net, minibatch_size=4) as sim:\n",
    "    sim.compile(optimizer=tf.optimizers.SGD(lr=0.1),\n",
    "                loss=tf.keras.losses.binary_crossentropy,\n",
    "                metrics=[\"accuracy\"])\n",
    "    sim.fit(X_snn, y_snn, epochs=1000, verbose=0)\n",
    "\n",
    "    print(\"Test accuracy:\", sim.evaluate(\n",
    "        X_snn, y_snn, verbose=0)[\"probe_accuracy\"])\n",
    "    predictions = sim.predict(X_snn)[out_p]\n",
    "    y_pred = []\n",
    "    for p in predictions:\n",
    "        y_pred.append(p[0][0])"
   ]
  },
  {
   "cell_type": "code",
   "execution_count": null,
   "metadata": {},
   "outputs": [],
   "source": [
    "y_pred"
   ]
  },
  {
   "cell_type": "code",
   "execution_count": null,
   "metadata": {},
   "outputs": [],
   "source": []
  }
 ],
 "metadata": {
  "kernelspec": {
   "display_name": "Python 3",
   "language": "python",
   "name": "python3"
  },
  "language_info": {
   "codemirror_mode": {
    "name": "ipython",
    "version": 3
   },
   "file_extension": ".py",
   "mimetype": "text/x-python",
   "name": "python",
   "nbconvert_exporter": "python",
   "pygments_lexer": "ipython3",
   "version": "3.7.5"
  }
 },
 "nbformat": 4,
 "nbformat_minor": 2
}
